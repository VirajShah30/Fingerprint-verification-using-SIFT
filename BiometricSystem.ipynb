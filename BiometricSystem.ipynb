{
 "cells": [
  {
   "cell_type": "code",
   "execution_count": null,
   "source": [
    "import cv2\r\n",
    "import numpy as np\r\n",
    "import os\r\n",
    "import gradio as gr"
   ],
   "outputs": [],
   "metadata": {}
  },
  {
   "cell_type": "code",
   "execution_count": 30,
   "source": [
    "def match(action, name, fingerprint_scan):\r\n",
    "  result = fingerprint_scan\r\n",
    "  x = \"No matches found.\"\r\n",
    "\r\n",
    "  if(action == \"Enrollment\"):\r\n",
    "    dir = \"./database/\"\r\n",
    "    filename = dir + name + '.jpg'\r\n",
    "    cv2.imwrite(filename, fingerprint_scan)\r\n",
    "    x = \"Succesfully Registered as \" + name\r\n",
    "    sift = cv2.xfeatures2d.SIFT_create()\r\n",
    "    keypoints, descriptors = sift.detectAndCompute(fingerprint_scan, None)\r\n",
    "    cv2.drawKeypoints(fingerprint_scan, keypoints, fingerprint_scan)\r\n",
    "    result = fingerprint_scan\r\n",
    "    return result,x\r\n",
    "\r\n",
    "  else:\r\n",
    "    for file in os.listdir(\"./database/\"):\r\n",
    "      fingerprint_database_image = cv2.imread(\"./database/\"+file)\r\n",
    "      sift = cv2.xfeatures2d.SIFT_create()\r\n",
    "      keypoints_1, descriptors_1 = sift.detectAndCompute(fingerprint_scan, None)\r\n",
    "      keypoints_2, descriptors_2 = sift.detectAndCompute(fingerprint_database_image, None)\r\n",
    "      matches = cv2.FlannBasedMatcher(dict(algorithm=1, trees=10), dict()).knnMatch(descriptors_1, descriptors_2, k=2)\r\n",
    "      match_points = []\r\n",
    "      for p, q in matches:\r\n",
    "        if p.distance < 0.1*q.distance:\r\n",
    "          match_points.append(p)\r\n",
    "          keypoints = 0\r\n",
    "          if len(keypoints_1) <= len(keypoints_2):\r\n",
    "              keypoints = len(keypoints_1)                \r\n",
    "          else:\r\n",
    "              keypoints = len(keypoints_2)\r\n",
    "              \r\n",
    "          if (len(match_points) / keypoints)>0.95:\r\n",
    "              result = cv2.drawMatches(fingerprint_scan, keypoints_1, fingerprint_database_image, keypoints_2, match_points, None) \r\n",
    "              a = len(match_points) / keypoints * 100\r\n",
    "              x = \"%.2f\" % a + \"% match with \" + str(file)\r\n",
    "              result = cv2.resize(result, None, fx=2.5, fy=2.5)\r\n",
    "              break\r\n",
    "    return result,x"
   ],
   "outputs": [],
   "metadata": {}
  },
  {
   "cell_type": "code",
   "execution_count": 31,
   "source": [
    "iface = gr.Interface(fn=match,\r\n",
    "                    title=\"Fingerprint Recognition System\",  \r\n",
    "                    inputs=[gr.inputs.Radio([\"Enrollment\", \"Identification\"],label=\"Action\"),gr.inputs.Textbox(label=\"Name\"), gr.inputs.Image()], \r\n",
    "                    outputs=[gr.outputs.Image(label=\"Flann-Based Matching Result on SIFT Features\"), gr.outputs.Textbox(label=\"Match Percentage\")], \r\n",
    "                    theme=\"compact\",\r\n",
    "                    allow_screenshot=False, \r\n",
    "                    allow_flagging=False)\r\n",
    "iface.launch()"
   ],
   "outputs": [
    {
     "output_type": "stream",
     "name": "stdout",
     "text": [
      "Running locally at: http://127.0.0.1:7873/\n",
      "To create a public link, set `share=True` in `launch()`.\n",
      "Interface loading below...\n"
     ]
    },
    {
     "output_type": "display_data",
     "data": {
      "text/html": [
       "\n",
       "        <iframe\n",
       "            width=\"900\"\n",
       "            height=\"500\"\n",
       "            src=\"http://127.0.0.1:7873/\"\n",
       "            frameborder=\"0\"\n",
       "            allowfullscreen\n",
       "        ></iframe>\n",
       "        "
      ],
      "text/plain": [
       "<IPython.lib.display.IFrame at 0x2d4321e93d0>"
      ]
     },
     "metadata": {}
    },
    {
     "output_type": "execute_result",
     "data": {
      "text/plain": [
       "(<Flask 'gradio.networking'>, 'http://127.0.0.1:7873/', None)"
      ]
     },
     "metadata": {},
     "execution_count": 31
    }
   ],
   "metadata": {}
  }
 ],
 "metadata": {
  "orig_nbformat": 4,
  "language_info": {
   "name": "python",
   "version": "3.9.6",
   "mimetype": "text/x-python",
   "codemirror_mode": {
    "name": "ipython",
    "version": 3
   },
   "pygments_lexer": "ipython3",
   "nbconvert_exporter": "python",
   "file_extension": ".py"
  },
  "kernelspec": {
   "name": "python3",
   "display_name": "Python 3.9.6 64-bit (conda)"
  },
  "interpreter": {
   "hash": "4428018c3285ca116096327231877fdd000139e76352cd9f94be97a77ef6e9de"
  }
 },
 "nbformat": 4,
 "nbformat_minor": 2
}