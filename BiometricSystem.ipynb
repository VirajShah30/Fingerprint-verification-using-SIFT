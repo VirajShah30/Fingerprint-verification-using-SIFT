{
 "cells": [
  {
   "cell_type": "code",
   "execution_count": 1,
   "source": [
    "import cv2\r\n",
    "import numpy as np\r\n",
    "import os"
   ],
   "outputs": [],
   "metadata": {}
  },
  {
   "cell_type": "code",
   "execution_count": 2,
   "source": [
    "test_original = cv2.imread(\"Finger-Print.tif\")\r\n",
    "cv2.imshow(\"Original\", cv2.resize(test_original, None, fx=1, fy=1))\r\n",
    "cv2.waitKey(0)\r\n",
    "cv2.destroyAllWindows()"
   ],
   "outputs": [],
   "metadata": {}
  },
  {
   "cell_type": "code",
   "execution_count": 7,
   "source": [
    "for file in [file for file in os.listdir(\"database\")]:\r\n",
    "    \r\n",
    "    fingerprint_database_image = cv2.imread(\"./database/\"+file)\r\n",
    "    \r\n",
    "    sift = cv2.xfeatures2d.SIFT_create()\r\n",
    "    \r\n",
    "    keypoints_1, descriptors_1 = sift.detectAndCompute(test_original, None)\r\n",
    "    keypoints_2, descriptors_2 = sift.detectAndCompute(fingerprint_database_image, None)\r\n",
    "    \r\n",
    "    matches = cv2.FlannBasedMatcher(dict(algorithm=1, trees=10), \r\n",
    "             dict()).knnMatch(descriptors_1, descriptors_2, k=2)\r\n",
    "    match_points = []\r\n",
    "   \r\n",
    "    for p, q in matches:\r\n",
    "      if p.distance < 0.1*q.distance:\r\n",
    "        match_points.append(p)\r\n",
    "        keypoints = 0\r\n",
    "        if len(keypoints_1) <= len(keypoints_2):\r\n",
    "            keypoints = len(keypoints_1)            \r\n",
    "        else:\r\n",
    "            keypoints = len(keypoints_2)\r\n",
    "        if (len(match_points) / keypoints)>0.95:\r\n",
    "            print(\"% match: \", len(match_points) / keypoints * 100)\r\n",
    "            print(\"Figerprint ID: \" + str(file)) \r\n",
    "            result = cv2.drawMatches(test_original, keypoints_1, fingerprint_database_image, \r\n",
    "                                    keypoints_2, match_points, None) \r\n",
    "            result = cv2.resize(result, None, fx=2.5, fy=2.5)\r\n",
    "            cv2.imshow(\"result\", result)\r\n",
    "            cv2.waitKey(0)\r\n",
    "            cv2.destroyAllWindows()\r\n",
    "            break;\r\n",
    "\r\n",
    "    "
   ],
   "outputs": [
    {
     "output_type": "stream",
     "name": "stdout",
     "text": [
      "% match:  95.04447268106735\n",
      "Figerprint ID: 1_1.tif\n"
     ]
    }
   ],
   "metadata": {}
  },
  {
   "cell_type": "code",
   "execution_count": null,
   "source": [],
   "outputs": [],
   "metadata": {}
  }
 ],
 "metadata": {
  "orig_nbformat": 4,
  "language_info": {
   "name": "python",
   "version": "3.9.6",
   "mimetype": "text/x-python",
   "codemirror_mode": {
    "name": "ipython",
    "version": 3
   },
   "pygments_lexer": "ipython3",
   "nbconvert_exporter": "python",
   "file_extension": ".py"
  },
  "kernelspec": {
   "name": "python3",
   "display_name": "Python 3.9.6 64-bit (conda)"
  },
  "interpreter": {
   "hash": "4428018c3285ca116096327231877fdd000139e76352cd9f94be97a77ef6e9de"
  }
 },
 "nbformat": 4,
 "nbformat_minor": 2
}