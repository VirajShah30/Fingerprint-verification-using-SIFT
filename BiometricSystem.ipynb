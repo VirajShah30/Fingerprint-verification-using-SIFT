{
 "cells": [
  {
   "cell_type": "code",
   "execution_count": 1,
   "metadata": {},
   "outputs": [],
   "source": [
    "import cv2\n",
    "import numpy as np\n",
    "import os\n",
    "import gradio as gr"
   ]
  },
  {
   "cell_type": "code",
   "execution_count": 3,
   "metadata": {},
   "outputs": [],
   "source": [
    "def match(action, name, fingerprint_scan):\n",
    "  result = fingerprint_scan\n",
    "  x = \"No matches found.\"\n",
    "\n",
    "  if(action == \"Enrollment\"):\n",
    "    dir = \"./database/\"\n",
    "    filename = dir + name + '.bmp'\n",
    "    cv2.imwrite(filename, fingerprint_scan)\n",
    "    x = \"Succesfully Registered as \" + name\n",
    "    sift = cv2.xfeatures2d.SIFT_create()\n",
    "    keypoints, descriptors = sift.detectAndCompute(fingerprint_scan, None)\n",
    "    cv2.drawKeypoints(fingerprint_scan, keypoints, fingerprint_scan)\n",
    "    result = fingerprint_scan\n",
    "    return result,x\n",
    "\n",
    "  else:\n",
    "    for file in os.listdir(\"./database/\"):\n",
    "      fingerprint_database_image = cv2.imread(\"./database/\"+file)\n",
    "      sift = cv2.xfeatures2d.SIFT_create()\n",
    "      keypoints_1, descriptors_1 = sift.detectAndCompute(fingerprint_scan, None)\n",
    "      keypoints_2, descriptors_2 = sift.detectAndCompute(fingerprint_database_image, None)\n",
    "      matches = cv2.FlannBasedMatcher(dict(algorithm=1, trees=10), dict()).knnMatch(descriptors_1, descriptors_2, k=2)\n",
    "      match_points = []\n",
    "      for p, q in matches:\n",
    "        if p.distance < 0.1*q.distance:\n",
    "          match_points.append(p)\n",
    "          keypoints = 0\n",
    "          if len(keypoints_1) <= len(keypoints_2):\n",
    "              keypoints = len(keypoints_1)                \n",
    "          else:\n",
    "              keypoints = len(keypoints_2)\n",
    "              \n",
    "          if (len(match_points) / keypoints)>0.95:\n",
    "              result = cv2.drawMatches(fingerprint_scan, keypoints_1, fingerprint_database_image, keypoints_2, match_points, None) \n",
    "              a = len(match_points) / keypoints * 100\n",
    "              x = \"%.2f\" % a + \"% match with \" + str(file).split(\".\")[0]\n",
    "              result = cv2.resize(result, None, fx=2.5, fy=2.5)\n",
    "              break\n",
    "    return result,x"
   ]
  },
  {
   "cell_type": "code",
   "execution_count": 5,
   "metadata": {},
   "outputs": [
    {
     "name": "stdout",
     "output_type": "stream",
     "text": [
      "Running locally at: http://127.0.0.1:7860/\n",
      "To create a public link, set `share=True` in `launch()`.\n"
     ]
    },
    {
     "data": {
      "text/html": [
       "\n",
       "        <iframe\n",
       "            width=\"900\"\n",
       "            height=\"500\"\n",
       "            src=\"http://127.0.0.1:7860/\"\n",
       "            frameborder=\"0\"\n",
       "            allowfullscreen\n",
       "        ></iframe>\n",
       "        "
      ],
      "text/plain": [
       "<IPython.lib.display.IFrame at 0x1ee72c445b0>"
      ]
     },
     "metadata": {},
     "output_type": "display_data"
    },
    {
     "data": {
      "text/plain": [
       "(<Flask 'gradio.networking'>, 'http://127.0.0.1:7860/', None)"
      ]
     },
     "execution_count": 5,
     "metadata": {},
     "output_type": "execute_result"
    }
   ],
   "source": [
    "iface = gr.Interface(fn=match,\n",
    "                    title=\"Fingerprint Recognition System\",  \n",
    "                    inputs=[gr.inputs.Radio([\"Enrollment\", \"Identification\"],label=\"Action\"),gr.inputs.Textbox(label=\"Name\"), gr.inputs.Image()], \n",
    "                    outputs=[gr.outputs.Image(label=\"Flann-Based Matching Result on SIFT Features\"), gr.outputs.Textbox(label=\"Match Percentage\")], \n",
    "                    allow_screenshot=False, \n",
    "                    allow_flagging=False)\n",
    "iface.launch(inbrowser=True)"
   ]
  }
 ],
 "metadata": {
  "interpreter": {
   "hash": "592337cbcf11b5e834a294de299f6f498748c1d3d9851ec2efc2c3c5567ef410"
  },
  "kernelspec": {
   "display_name": "Python 3.8.12 64-bit (conda)",
   "name": "python3"
  },
  "language_info": {
   "codemirror_mode": {
    "name": "ipython",
    "version": 3
   },
   "file_extension": ".py",
   "mimetype": "text/x-python",
   "name": "python",
   "nbconvert_exporter": "python",
   "pygments_lexer": "ipython3",
   "version": "3.8.12"
  },
  "orig_nbformat": 4
 },
 "nbformat": 4,
 "nbformat_minor": 2
}
